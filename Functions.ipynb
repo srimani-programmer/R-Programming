{
 "cells": [
  {
   "cell_type": "markdown",
   "metadata": {},
   "source": [
    "# Introduction to PreDefined Functions"
   ]
  },
  {
   "cell_type": "code",
   "execution_count": 1,
   "metadata": {},
   "outputs": [],
   "source": [
    "val_1 <- 10\n",
    "val_2 <- 20"
   ]
  },
  {
   "cell_type": "code",
   "execution_count": 8,
   "metadata": {},
   "outputs": [
    {
     "data": {
      "text/html": [
       "2.30258509299405"
      ],
      "text/latex": [
       "2.30258509299405"
      ],
      "text/markdown": [
       "2.30258509299405"
      ],
      "text/plain": [
       "[1] 2.302585"
      ]
     },
     "metadata": {},
     "output_type": "display_data"
    },
    {
     "data": {
      "text/html": [
       "2.99573227355399"
      ],
      "text/latex": [
       "2.99573227355399"
      ],
      "text/markdown": [
       "2.99573227355399"
      ],
      "text/plain": [
       "[1] 2.995732"
      ]
     },
     "metadata": {},
     "output_type": "display_data"
    },
    {
     "data": {
      "text/html": [
       "1"
      ],
      "text/latex": [
       "1"
      ],
      "text/markdown": [
       "1"
      ],
      "text/plain": [
       "[1] 1"
      ]
     },
     "metadata": {},
     "output_type": "display_data"
    },
    {
     "data": {
      "text/html": [
       "1.30102999566398"
      ],
      "text/latex": [
       "1.30102999566398"
      ],
      "text/markdown": [
       "1.30102999566398"
      ],
      "text/plain": [
       "[1] 1.30103"
      ]
     },
     "metadata": {},
     "output_type": "display_data"
    },
    {
     "data": {
      "text/html": [
       "2.16096404744368"
      ],
      "text/latex": [
       "2.16096404744368"
      ],
      "text/markdown": [
       "2.16096404744368"
      ],
      "text/plain": [
       "[1] 2.160964"
      ]
     },
     "metadata": {},
     "output_type": "display_data"
    },
    {
     "data": {
      "text/html": [
       "1.67195001617301"
      ],
      "text/latex": [
       "1.67195001617301"
      ],
      "text/markdown": [
       "1.67195001617301"
      ],
      "text/plain": [
       "[1] 1.67195"
      ]
     },
     "metadata": {},
     "output_type": "display_data"
    },
    {
     "data": {
      "text/html": [
       "1.10623217853742"
      ],
      "text/latex": [
       "1.10623217853742"
      ],
      "text/markdown": [
       "1.10623217853742"
      ],
      "text/plain": [
       "[1] 1.106232"
      ]
     },
     "metadata": {},
     "output_type": "display_data"
    }
   ],
   "source": [
    "# Working with Natural Logarithm\n",
    "\n",
    "log(val_1)\n",
    "\n",
    "log(val_2)\n",
    "\n",
    "# Working with Natural Logarithm\n",
    "\n",
    "log10(val_1)\n",
    "\n",
    "log10(val_2)\n",
    "\n",
    "# Working with Natural Logarithm with different bases\n",
    "\n",
    "log(val_2,base = 4)\n",
    "\n",
    "log(val_2,base = 6)\n",
    "\n",
    "log(val_2,15)"
   ]
  },
  {
   "cell_type": "code",
   "execution_count": 4,
   "metadata": {},
   "outputs": [
    {
     "data": {
      "text/html": [
       "22026.4657948067"
      ],
      "text/latex": [
       "22026.4657948067"
      ],
      "text/markdown": [
       "22026.4657948067"
      ],
      "text/plain": [
       "[1] 22026.47"
      ]
     },
     "metadata": {},
     "output_type": "display_data"
    },
    {
     "data": {
      "text/html": [
       "485165195.40979"
      ],
      "text/latex": [
       "485165195.40979"
      ],
      "text/markdown": [
       "485165195.40979"
      ],
      "text/plain": [
       "[1] 485165195"
      ]
     },
     "metadata": {},
     "output_type": "display_data"
    }
   ],
   "source": [
    "# Working with Exponential Function\n",
    "\n",
    "exp(val_1)\n",
    "\n",
    "exp(val_2)"
   ]
  },
  {
   "cell_type": "code",
   "execution_count": 9,
   "metadata": {},
   "outputs": [],
   "source": [
    "# To know the complete Details of the predefined function then \n",
    "help('log')"
   ]
  },
  {
   "cell_type": "code",
   "execution_count": 12,
   "metadata": {},
   "outputs": [],
   "source": [
    "# Working with '?' \n",
    "?'log'"
   ]
  },
  {
   "cell_type": "markdown",
   "metadata": {},
   "source": [
    "# Working with user Input Function"
   ]
  },
  {
   "cell_type": "code",
   "execution_count": 15,
   "metadata": {},
   "outputs": [
    {
     "name": "stdout",
     "output_type": "stream",
     "text": [
      "Enter your name:Srimani\n",
      "Enter your Age:18\n",
      "Enter your Percentage95.54\n"
     ]
    }
   ],
   "source": [
    "myname = readline('Enter your name:')\n",
    "age <- readline('Enter your Age:')\n",
    "percentage <- readline('Enter your Percentage')"
   ]
  },
  {
   "cell_type": "code",
   "execution_count": 31,
   "metadata": {},
   "outputs": [
    {
     "name": "stdout",
     "output_type": "stream",
     "text": [
      "[1] \"My Name is: Srimani\"\n",
      "[1] \"My age is: 18\"\n",
      "[1] \"My Percentage is: 95.54\"\n"
     ]
    }
   ],
   "source": [
    "age <- as.integer(age) \n",
    "percentage <- as.double(percentage)\n",
    "\n",
    "print(paste('My Name is:',myname))\n",
    "print(paste('My age is:',age))\n",
    "print(paste('My Percentage is:',percentage))"
   ]
  },
  {
   "cell_type": "markdown",
   "metadata": {},
   "source": [
    "# Knowing the type of an object"
   ]
  },
  {
   "cell_type": "code",
   "execution_count": 32,
   "metadata": {},
   "outputs": [
    {
     "data": {
      "text/html": [
       "'character'"
      ],
      "text/latex": [
       "'character'"
      ],
      "text/markdown": [
       "'character'"
      ],
      "text/plain": [
       "[1] \"character\""
      ]
     },
     "metadata": {},
     "output_type": "display_data"
    },
    {
     "data": {
      "text/html": [
       "'integer'"
      ],
      "text/latex": [
       "'integer'"
      ],
      "text/markdown": [
       "'integer'"
      ],
      "text/plain": [
       "[1] \"integer\""
      ]
     },
     "metadata": {},
     "output_type": "display_data"
    },
    {
     "data": {
      "text/html": [
       "'numeric'"
      ],
      "text/latex": [
       "'numeric'"
      ],
      "text/markdown": [
       "'numeric'"
      ],
      "text/plain": [
       "[1] \"numeric\""
      ]
     },
     "metadata": {},
     "output_type": "display_data"
    }
   ],
   "source": [
    "class(myname)\n",
    "class(age)\n",
    "class(percentage)"
   ]
  },
  {
   "cell_type": "code",
   "execution_count": null,
   "metadata": {},
   "outputs": [],
   "source": []
  }
 ],
 "metadata": {
  "kernelspec": {
   "display_name": "R",
   "language": "R",
   "name": "ir"
  },
  "language_info": {
   "codemirror_mode": "r",
   "file_extension": ".r",
   "mimetype": "text/x-r-source",
   "name": "R",
   "pygments_lexer": "r",
   "version": "3.5.0"
  }
 },
 "nbformat": 4,
 "nbformat_minor": 2
}
