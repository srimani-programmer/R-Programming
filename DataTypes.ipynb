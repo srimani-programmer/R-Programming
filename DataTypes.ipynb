{
 "cells": [
  {
   "cell_type": "markdown",
   "metadata": {},
   "source": [
    "# Introductin to DataTypes"
   ]
  },
  {
   "cell_type": "markdown",
   "metadata": {},
   "source": [
    "# 1.Vectors"
   ]
  },
  {
   "cell_type": "code",
   "execution_count": 19,
   "metadata": {},
   "outputs": [
    {
     "name": "stdout",
     "output_type": "stream",
     "text": [
      "[1] 1 2 3 4 5 6 7\n"
     ]
    }
   ],
   "source": [
    "simple_vector <- c(1,2,3,4,5,6,7)\n",
    "\n",
    "# The Elements present in the vector are said to be Components\n",
    "\n",
    "print(simple_vector)"
   ]
  },
  {
   "cell_type": "code",
   "execution_count": 20,
   "metadata": {},
   "outputs": [
    {
     "data": {
      "text/html": [
       "7"
      ],
      "text/latex": [
       "7"
      ],
      "text/markdown": [
       "7"
      ],
      "text/plain": [
       "[1] 7"
      ]
     },
     "metadata": {},
     "output_type": "display_data"
    }
   ],
   "source": [
    "# To find the Length of the Vector we use length()\n",
    "length(simple_vector)"
   ]
  },
  {
   "cell_type": "code",
   "execution_count": 21,
   "metadata": {},
   "outputs": [
    {
     "name": "stdout",
     "output_type": "stream",
     "text": [
      "[1]  1  1  0  1  0 11\n"
     ]
    }
   ],
   "source": [
    "# Vector can be typecasted internally\n",
    "logical_vector <- c(TRUE,TRUE,FALSE,TRUE,FALSE,11)\n",
    "\n",
    "print(logical_vector)"
   ]
  },
  {
   "cell_type": "code",
   "execution_count": 22,
   "metadata": {},
   "outputs": [
    {
     "name": "stdout",
     "output_type": "stream",
     "text": [
      "[1]  2  4  6  8 11 11\n",
      "[1]  0  0  0  0 -1  1\n",
      "[1]  1  4  9 16 30 30\n",
      "[1] 1.0000000 1.0000000 1.0000000 1.0000000 0.8333333 1.2000000\n",
      "[1] 1 1 1 1 0 1\n"
     ]
    }
   ],
   "source": [
    "#Vector Arthimetic\n",
    "\n",
    "vec_1 <- c(1,2,3,4,5,6)\n",
    "vec_2 <- c(1,2,3,4,6,5)\n",
    "\n",
    "# Addition\n",
    "\n",
    "print(vec_1 + vec_2)\n",
    "\n",
    "# Subtraction\n",
    "\n",
    "print(vec_1 - vec_2)\n",
    "\n",
    "# Multiplication\n",
    "\n",
    "print(vec_1 * vec_2)\n",
    "\n",
    "# Division\n",
    "\n",
    "print(vec_1 / vec_2)\n",
    "\n",
    "# Integer Division\n",
    "\n",
    "print(vec_1 %/% vec_2)\n",
    "\n"
   ]
  },
  {
   "cell_type": "code",
   "execution_count": 23,
   "metadata": {},
   "outputs": [
    {
     "data": {
      "text/html": [
       "'double'"
      ],
      "text/latex": [
       "'double'"
      ],
      "text/markdown": [
       "'double'"
      ],
      "text/plain": [
       "[1] \"double\""
      ]
     },
     "metadata": {},
     "output_type": "display_data"
    },
    {
     "data": {
      "text/html": [
       "'numeric'"
      ],
      "text/latex": [
       "'numeric'"
      ],
      "text/markdown": [
       "'numeric'"
      ],
      "text/plain": [
       "[1] \"numeric\""
      ]
     },
     "metadata": {},
     "output_type": "display_data"
    }
   ],
   "source": [
    "# To Know the type of an Object in R\n",
    "\n",
    "typeof(vec_1)\n",
    "\n",
    "class(vec_1)"
   ]
  },
  {
   "cell_type": "code",
   "execution_count": 42,
   "metadata": {},
   "outputs": [
    {
     "name": "stdout",
     "output_type": "stream",
     "text": [
      " [1]  1  2  3  4  5  6  7  8  9 10 11 12 13 14 15\n",
      " [1] -50 -49 -48 -47 -46 -45 -44 -43 -42 -41 -40 -39 -38 -37 -36 -35 -34 -33 -32\n",
      "[20] -31 -30 -29 -28 -27 -26 -25 -24 -23 -22 -21 -20 -19 -18 -17 -16 -15 -14 -13\n",
      "[39] -12 -11 -10  -9  -8  -7  -6  -5  -4  -3  -2  -1   0   1   2   3\n",
      "Enter a value for n:30\n",
      " [1]  0  3  6  9 12 15 18 21 24 27 30\n"
     ]
    }
   ],
   "source": [
    "# Creating the vector in different ways\n",
    "\n",
    "vector_1 <- 1:15\n",
    "vector_2 <- -50:3\n",
    "\n",
    "print(vector_1)\n",
    "\n",
    "print(vector_2)\n",
    "\n",
    "# Creating a Vector with sequence Method\n",
    "\n",
    "n<- readline('Enter a value for n:')\n",
    "n<- as.integer(n)\n",
    "\n",
    "vec_seq <- seq(0,n,3)\n",
    "\n",
    "print(vec_seq)\n"
   ]
  },
  {
   "cell_type": "code",
   "execution_count": null,
   "metadata": {},
   "outputs": [],
   "source": []
  }
 ],
 "metadata": {
  "kernelspec": {
   "display_name": "R",
   "language": "R",
   "name": "ir"
  },
  "language_info": {
   "codemirror_mode": "r",
   "file_extension": ".r",
   "mimetype": "text/x-r-source",
   "name": "R",
   "pygments_lexer": "r",
   "version": "3.5.0"
  }
 },
 "nbformat": 4,
 "nbformat_minor": 2
}
