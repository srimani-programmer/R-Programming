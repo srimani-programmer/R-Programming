{
 "cells": [
  {
   "cell_type": "markdown",
   "metadata": {},
   "source": [
    "# Introduction to Factors"
   ]
  },
  {
   "cell_type": "code",
   "execution_count": 1,
   "metadata": {},
   "outputs": [],
   "source": [
    "# What's a factor and why would you use it?\n",
    "# In this chapter you dive into the wonderful world of factors.\n",
    "\n",
    "# The term factor refers to a statistical data type used to store categorical variables.\n",
    "# The difference between a categorical variable and a continuous variable is that \n",
    "# a categorical variable can belong to a limited number of categories. \n",
    "# A continuous variable, on the other hand, can correspond to an infinite number of values.\n",
    "\n",
    "# It is important that R knows whether it is dealing with a continuous or a categorical variable, \n",
    "# as the statistical models you will develop in the future treat both types differently. \n",
    "# (You will see later why this is the case.)\n",
    "\n",
    "# A good example of a categorical variable is sex. In many circumstances \n",
    "# you can limit the sex categories to \"Male\" or \"Female\". \n",
    "# (Sometimes you may need different categories. For example, you may need to consider chromosomal variation, \n",
    "# hermaphroditic animals, or different cultural norms, but you will always have a finite number of categories.)"
   ]
  },
  {
   "cell_type": "markdown",
   "metadata": {},
   "source": [
    "# 3.01"
   ]
  },
  {
   "cell_type": "code",
   "execution_count": 3,
   "metadata": {},
   "outputs": [
    {
     "data": {
      "text/html": [
       "<ol class=list-inline>\n",
       "\t<li>Male</li>\n",
       "\t<li>Female</li>\n",
       "\t<li>Female</li>\n",
       "\t<li>Male</li>\n",
       "\t<li>Male</li>\n",
       "</ol>\n",
       "\n",
       "<details>\n",
       "\t<summary style=display:list-item;cursor:pointer>\n",
       "\t\t<strong>Levels</strong>:\n",
       "\t</summary>\n",
       "\t<ol class=list-inline>\n",
       "\t\t<li>'Female'</li>\n",
       "\t\t<li>'Male'</li>\n",
       "\t</ol>\n",
       "</details>"
      ],
      "text/latex": [
       "\\begin{enumerate*}\n",
       "\\item Male\n",
       "\\item Female\n",
       "\\item Female\n",
       "\\item Male\n",
       "\\item Male\n",
       "\\end{enumerate*}\n",
       "\n",
       "\\emph{Levels}: \\begin{enumerate*}\n",
       "\\item 'Female'\n",
       "\\item 'Male'\n",
       "\\end{enumerate*}\n"
      ],
      "text/markdown": [
       "1. Male\n",
       "2. Female\n",
       "3. Female\n",
       "4. Male\n",
       "5. Male\n",
       "\n",
       "\n",
       "\n",
       "**Levels**: 1. 'Female'\n",
       "2. 'Male'\n",
       "\n",
       "\n"
      ],
      "text/plain": [
       "[1] Male   Female Female Male   Male  \n",
       "Levels: Female Male"
      ]
     },
     "metadata": {},
     "output_type": "display_data"
    }
   ],
   "source": [
    "# Sex vector\n",
    "sex_vector <- c(\"Male\", \"Female\", \"Female\", \"Male\", \"Male\")\n",
    "\n",
    "# Convert sex_vector to a factor\n",
    "factor_sex_vector <- factor(sex_vector)\n",
    "\n",
    "# Print out factor_sex_vector\n",
    "factor_sex_vector"
   ]
  },
  {
   "cell_type": "code",
   "execution_count": 4,
   "metadata": {},
   "outputs": [],
   "source": [
    "# What's a factor and why would you use it? (3)\n",
    "# There are two types of categorical variables: a nominal categorical variable and an ordinal categorical variable.\n",
    "\n",
    "# A nominal variable is a categorical variable without an implied order. This means that it is impossible to say that \n",
    "# 'one is worth more than the other'. For example, think of the categorical variable animals_vector with the categories \n",
    "# \"Elephant\", \"Giraffe\", \"Donkey\" and \"Horse\". Here, it is impossible to say that one stands above or below the other. \n",
    "# (Note that some of you might disagree ;-) ).\n",
    "\n",
    "# In contrast, ordinal variables do have a natural ordering. \n",
    "# Consider for example the categorical variable temperature_vector with the categories: \"Low\", \"Medium\" and \"High\". \n",
    "# Here it is obvious that \"Medium\" stands above \"Low\", and \"High\" stands above \"Medium\"."
   ]
  },
  {
   "cell_type": "markdown",
   "metadata": {},
   "source": [
    "# 3.02"
   ]
  },
  {
   "cell_type": "code",
   "execution_count": 6,
   "metadata": {},
   "outputs": [
    {
     "data": {
      "text/html": [
       "<ol class=list-inline>\n",
       "\t<li>Elephant</li>\n",
       "\t<li>Giraffe</li>\n",
       "\t<li>Donkey</li>\n",
       "\t<li>Horse</li>\n",
       "</ol>\n",
       "\n",
       "<details>\n",
       "\t<summary style=display:list-item;cursor:pointer>\n",
       "\t\t<strong>Levels</strong>:\n",
       "\t</summary>\n",
       "\t<ol class=list-inline>\n",
       "\t\t<li>'Donkey'</li>\n",
       "\t\t<li>'Elephant'</li>\n",
       "\t\t<li>'Giraffe'</li>\n",
       "\t\t<li>'Horse'</li>\n",
       "\t</ol>\n",
       "</details>"
      ],
      "text/latex": [
       "\\begin{enumerate*}\n",
       "\\item Elephant\n",
       "\\item Giraffe\n",
       "\\item Donkey\n",
       "\\item Horse\n",
       "\\end{enumerate*}\n",
       "\n",
       "\\emph{Levels}: \\begin{enumerate*}\n",
       "\\item 'Donkey'\n",
       "\\item 'Elephant'\n",
       "\\item 'Giraffe'\n",
       "\\item 'Horse'\n",
       "\\end{enumerate*}\n"
      ],
      "text/markdown": [
       "1. Elephant\n",
       "2. Giraffe\n",
       "3. Donkey\n",
       "4. Horse\n",
       "\n",
       "\n",
       "\n",
       "**Levels**: 1. 'Donkey'\n",
       "2. 'Elephant'\n",
       "3. 'Giraffe'\n",
       "4. 'Horse'\n",
       "\n",
       "\n"
      ],
      "text/plain": [
       "[1] Elephant Giraffe  Donkey   Horse   \n",
       "Levels: Donkey Elephant Giraffe Horse"
      ]
     },
     "metadata": {},
     "output_type": "display_data"
    },
    {
     "data": {
      "text/html": [
       "<ol class=list-inline>\n",
       "\t<li>High</li>\n",
       "\t<li>Low</li>\n",
       "\t<li>High</li>\n",
       "\t<li>Low</li>\n",
       "\t<li>Medium</li>\n",
       "</ol>\n",
       "\n",
       "<details>\n",
       "\t<summary style=display:list-item;cursor:pointer>\n",
       "\t\t<strong>Levels</strong>:\n",
       "\t</summary>\n",
       "\t<ol class=list-inline>\n",
       "\t\t<li>'Low'</li>\n",
       "\t\t<li>'Medium'</li>\n",
       "\t\t<li>'High'</li>\n",
       "\t</ol>\n",
       "</details>"
      ],
      "text/latex": [
       "\\begin{enumerate*}\n",
       "\\item High\n",
       "\\item Low\n",
       "\\item High\n",
       "\\item Low\n",
       "\\item Medium\n",
       "\\end{enumerate*}\n",
       "\n",
       "\\emph{Levels}: \\begin{enumerate*}\n",
       "\\item 'Low'\n",
       "\\item 'Medium'\n",
       "\\item 'High'\n",
       "\\end{enumerate*}\n"
      ],
      "text/markdown": [
       "1. High\n",
       "2. Low\n",
       "3. High\n",
       "4. Low\n",
       "5. Medium\n",
       "\n",
       "\n",
       "\n",
       "**Levels**: 1. 'Low'\n",
       "2. 'Medium'\n",
       "3. 'High'\n",
       "\n",
       "\n"
      ],
      "text/plain": [
       "[1] High   Low    High   Low    Medium\n",
       "Levels: Low < Medium < High"
      ]
     },
     "metadata": {},
     "output_type": "display_data"
    }
   ],
   "source": [
    "# Animals\n",
    "animals_vector <- c(\"Elephant\", \"Giraffe\", \"Donkey\", \"Horse\")\n",
    "factor_animals_vector <- factor(animals_vector)\n",
    "factor_animals_vector\n",
    "\n",
    "# Temperature\n",
    "temperature_vector <- c(\"High\", \"Low\", \"High\",\"Low\", \"Medium\")\n",
    "factor_temperature_vector <- factor(temperature_vector, order = TRUE, levels = c(\"Low\", \"Medium\", \"High\"))\n",
    "factor_temperature_vector"
   ]
  },
  {
   "cell_type": "code",
   "execution_count": 13,
   "metadata": {},
   "outputs": [
    {
     "data": {
      "text/html": [
       "<ol class=list-inline>\n",
       "\t<li>Male</li>\n",
       "\t<li>Female</li>\n",
       "\t<li>Female</li>\n",
       "\t<li>Male</li>\n",
       "\t<li>Male</li>\n",
       "</ol>\n",
       "\n",
       "<details>\n",
       "\t<summary style=display:list-item;cursor:pointer>\n",
       "\t\t<strong>Levels</strong>:\n",
       "\t</summary>\n",
       "\t<ol class=list-inline>\n",
       "\t\t<li>'Female'</li>\n",
       "\t\t<li>'Male'</li>\n",
       "\t</ol>\n",
       "</details>"
      ],
      "text/latex": [
       "\\begin{enumerate*}\n",
       "\\item Male\n",
       "\\item Female\n",
       "\\item Female\n",
       "\\item Male\n",
       "\\item Male\n",
       "\\end{enumerate*}\n",
       "\n",
       "\\emph{Levels}: \\begin{enumerate*}\n",
       "\\item 'Female'\n",
       "\\item 'Male'\n",
       "\\end{enumerate*}\n"
      ],
      "text/markdown": [
       "1. Male\n",
       "2. Female\n",
       "3. Female\n",
       "4. Male\n",
       "5. Male\n",
       "\n",
       "\n",
       "\n",
       "**Levels**: 1. 'Female'\n",
       "2. 'Male'\n",
       "\n",
       "\n"
      ],
      "text/plain": [
       "[1] Male   Female Female Male   Male  \n",
       "Levels: Female Male"
      ]
     },
     "metadata": {},
     "output_type": "display_data"
    }
   ],
   "source": [
    "# Code to build factor_survey_vector\n",
    "survey_vector <- c(\"M\", \"F\", \"F\", \"M\", \"M\")\n",
    "factor_survey_vector <- factor(survey_vector)\n",
    "\n",
    "# Specify the levels of factor_survey_vector\n",
    "levels(factor_survey_vector) <- c(\"Female\", \"Male\")\n",
    "\n",
    "factor_survey_vector"
   ]
  },
  {
   "cell_type": "markdown",
   "metadata": {},
   "source": [
    "# Generating the Summary Result"
   ]
  },
  {
   "cell_type": "code",
   "execution_count": 14,
   "metadata": {},
   "outputs": [
    {
     "data": {
      "text/plain": [
       "   Length     Class      Mode \n",
       "        5 character character "
      ]
     },
     "metadata": {},
     "output_type": "display_data"
    },
    {
     "data": {
      "text/html": [
       "<dl class=dl-horizontal>\n",
       "\t<dt>Female</dt>\n",
       "\t\t<dd>2</dd>\n",
       "\t<dt>Male</dt>\n",
       "\t\t<dd>3</dd>\n",
       "</dl>\n"
      ],
      "text/latex": [
       "\\begin{description*}\n",
       "\\item[Female] 2\n",
       "\\item[Male] 3\n",
       "\\end{description*}\n"
      ],
      "text/markdown": [
       "Female\n",
       ":   2Male\n",
       ":   3\n",
       "\n"
      ],
      "text/plain": [
       "Female   Male \n",
       "     2      3 "
      ]
     },
     "metadata": {},
     "output_type": "display_data"
    }
   ],
   "source": [
    "# Generate summary for survey_vector\n",
    "summary(survey_vector)\n",
    "\n",
    "# Generate summary for factor_survey_vector\n",
    "summary(factor_survey_vector)"
   ]
  },
  {
   "cell_type": "code",
   "execution_count": 15,
   "metadata": {},
   "outputs": [
    {
     "name": "stderr",
     "output_type": "stream",
     "text": [
      "Warning message in Ops.factor(male, female):\n",
      "“‘>’ not meaningful for factors”"
     ]
    },
    {
     "data": {
      "text/html": [
       "&lt;NA&gt;"
      ],
      "text/latex": [
       "<NA>"
      ],
      "text/markdown": [
       "&lt;NA&gt;"
      ],
      "text/plain": [
       "[1] NA"
      ]
     },
     "metadata": {},
     "output_type": "display_data"
    }
   ],
   "source": [
    "# Male\n",
    "male <- factor_survey_vector[1]\n",
    "\n",
    "# Female\n",
    "female <- factor_survey_vector[2]\n",
    "\n",
    "# Battle of the sexes: Male 'larger' than female?\n",
    "male > female"
   ]
  },
  {
   "cell_type": "code",
   "execution_count": 16,
   "metadata": {},
   "outputs": [
    {
     "data": {
      "text/html": [
       "<ol class=list-inline>\n",
       "\t<li>medium</li>\n",
       "\t<li>slow</li>\n",
       "\t<li>slow</li>\n",
       "\t<li>medium</li>\n",
       "\t<li>fast</li>\n",
       "</ol>\n",
       "\n",
       "<details>\n",
       "\t<summary style=display:list-item;cursor:pointer>\n",
       "\t\t<strong>Levels</strong>:\n",
       "\t</summary>\n",
       "\t<ol class=list-inline>\n",
       "\t\t<li>'slow'</li>\n",
       "\t\t<li>'medium'</li>\n",
       "\t\t<li>'fast'</li>\n",
       "\t</ol>\n",
       "</details>"
      ],
      "text/latex": [
       "\\begin{enumerate*}\n",
       "\\item medium\n",
       "\\item slow\n",
       "\\item slow\n",
       "\\item medium\n",
       "\\item fast\n",
       "\\end{enumerate*}\n",
       "\n",
       "\\emph{Levels}: \\begin{enumerate*}\n",
       "\\item 'slow'\n",
       "\\item 'medium'\n",
       "\\item 'fast'\n",
       "\\end{enumerate*}\n"
      ],
      "text/markdown": [
       "1. medium\n",
       "2. slow\n",
       "3. slow\n",
       "4. medium\n",
       "5. fast\n",
       "\n",
       "\n",
       "\n",
       "**Levels**: 1. 'slow'\n",
       "2. 'medium'\n",
       "3. 'fast'\n",
       "\n",
       "\n"
      ],
      "text/plain": [
       "[1] medium slow   slow   medium fast  \n",
       "Levels: slow < medium < fast"
      ]
     },
     "metadata": {},
     "output_type": "display_data"
    },
    {
     "data": {
      "text/html": [
       "<dl class=dl-horizontal>\n",
       "\t<dt>slow</dt>\n",
       "\t\t<dd>2</dd>\n",
       "\t<dt>medium</dt>\n",
       "\t\t<dd>2</dd>\n",
       "\t<dt>fast</dt>\n",
       "\t\t<dd>1</dd>\n",
       "</dl>\n"
      ],
      "text/latex": [
       "\\begin{description*}\n",
       "\\item[slow] 2\n",
       "\\item[medium] 2\n",
       "\\item[fast] 1\n",
       "\\end{description*}\n"
      ],
      "text/markdown": [
       "slow\n",
       ":   2medium\n",
       ":   2fast\n",
       ":   1\n",
       "\n"
      ],
      "text/plain": [
       "  slow medium   fast \n",
       "     2      2      1 "
      ]
     },
     "metadata": {},
     "output_type": "display_data"
    }
   ],
   "source": [
    "# Create speed_vector\n",
    "speed_vector <- c(\"medium\", \"slow\", \"slow\", \"medium\", \"fast\")\n",
    "\n",
    "# Convert speed_vector to ordered factor vector\n",
    "factor_speed_vector <- factor(speed_vector,ordered = TRUE, levels = c(\"slow\", \"medium\", \"fast\"))\n",
    "\n",
    "# Print factor_speed_vector\n",
    "factor_speed_vector\n",
    "summary(factor_speed_vector)"
   ]
  },
  {
   "cell_type": "code",
   "execution_count": 17,
   "metadata": {},
   "outputs": [
    {
     "data": {
      "text/html": [
       "FALSE"
      ],
      "text/latex": [
       "FALSE"
      ],
      "text/markdown": [
       "FALSE"
      ],
      "text/plain": [
       "[1] FALSE"
      ]
     },
     "metadata": {},
     "output_type": "display_data"
    }
   ],
   "source": [
    "# Factor value for second data analyst\n",
    "da2 <- factor_speed_vector[2]\n",
    "\n",
    "# Factor value for fifth data analyst\n",
    "da5 <- factor_speed_vector[5]\n",
    "\n",
    "# Is data analyst 2 faster than data analyst 5?\n",
    "da2 > da5"
   ]
  },
  {
   "cell_type": "code",
   "execution_count": null,
   "metadata": {},
   "outputs": [],
   "source": []
  }
 ],
 "metadata": {
  "kernelspec": {
   "display_name": "R",
   "language": "R",
   "name": "ir"
  },
  "language_info": {
   "codemirror_mode": "r",
   "file_extension": ".r",
   "mimetype": "text/x-r-source",
   "name": "R",
   "pygments_lexer": "r",
   "version": "3.5.0"
  }
 },
 "nbformat": 4,
 "nbformat_minor": 2
}
