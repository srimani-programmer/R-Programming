{
 "cells": [
  {
   "cell_type": "markdown",
   "metadata": {},
   "source": [
    "# Basic Data Types"
   ]
  },
  {
   "cell_type": "code",
   "execution_count": 5,
   "metadata": {},
   "outputs": [],
   "source": [
    "#Basic data types in R\n",
    "#R works with numerous data types. Some of the most basic types to get started are:\n",
    "\n",
    "#Decimal values like 4.5 are called numerics.\n",
    "#Natural numbers like 4 are called integers. Integers are also numerics.\n",
    "#Boolean values (TRUE or FALSE) are called logical.\n",
    "#Text (or string) values are called characters.\n",
    "#Note how the quotation marks on the right indicate that 'some text' is a character."
   ]
  },
  {
   "cell_type": "markdown",
   "metadata": {},
   "source": [
    "# What is a DataType?"
   ]
  },
  {
   "cell_type": "code",
   "execution_count": 6,
   "metadata": {},
   "outputs": [],
   "source": [
    "#Do you remember that when you added 5 + \"six\", you got an error due to a mismatch in data types?\n",
    "#You can avoid such embarrassing situations by checking the data type of a variable beforehand. \n",
    "#You can do this with the class() function, as the code on the right shows."
   ]
  },
  {
   "cell_type": "code",
   "execution_count": 7,
   "metadata": {},
   "outputs": [
    {
     "data": {
      "text/html": [
       "'numeric'"
      ],
      "text/latex": [
       "'numeric'"
      ],
      "text/markdown": [
       "'numeric'"
      ],
      "text/plain": [
       "[1] \"numeric\""
      ]
     },
     "metadata": {},
     "output_type": "display_data"
    },
    {
     "data": {
      "text/html": [
       "'character'"
      ],
      "text/latex": [
       "'character'"
      ],
      "text/markdown": [
       "'character'"
      ],
      "text/plain": [
       "[1] \"character\""
      ]
     },
     "metadata": {},
     "output_type": "display_data"
    },
    {
     "data": {
      "text/html": [
       "'logical'"
      ],
      "text/latex": [
       "'logical'"
      ],
      "text/markdown": [
       "'logical'"
      ],
      "text/plain": [
       "[1] \"logical\""
      ]
     },
     "metadata": {},
     "output_type": "display_data"
    }
   ],
   "source": [
    "# Declare variables of different types\n",
    "my_numeric <- 42\n",
    "my_character <- \"universe\"\n",
    "my_logical <- FALSE \n",
    "\n",
    "# Check class of my_numeric\n",
    "class(my_numeric)\n",
    "\n",
    "# Check class of my_character\n",
    "class(my_character)\n",
    "\n",
    "# Check class of my_logical\n",
    "class(my_logical)"
   ]
  },
  {
   "cell_type": "code",
   "execution_count": null,
   "metadata": {},
   "outputs": [],
   "source": []
  }
 ],
 "metadata": {
  "kernelspec": {
   "display_name": "R",
   "language": "R",
   "name": "ir"
  },
  "language_info": {
   "codemirror_mode": "r",
   "file_extension": ".r",
   "mimetype": "text/x-r-source",
   "name": "R",
   "pygments_lexer": "r",
   "version": "3.5.0"
  }
 },
 "nbformat": 4,
 "nbformat_minor": 2
}
