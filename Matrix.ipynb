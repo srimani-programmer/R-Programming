{
 "cells": [
  {
   "cell_type": "markdown",
   "metadata": {},
   "source": [
    "# Introduction to Matrix"
   ]
  },
  {
   "cell_type": "code",
   "execution_count": 59,
   "metadata": {},
   "outputs": [],
   "source": [
    "# What's a matrix?\n",
    "# In R, a matrix is a collection of elements of the same data type (numeric, character, or logical) \n",
    "#arranged into a fixed number of rows and columns. Since you are only working with rows and columns, \n",
    "#a matrix is called two-dimensional.\n",
    "\n",
    "# You can construct a matrix in R with the matrix() function. Consider the following example:\n",
    "\n",
    "# matrix(1:9, byrow = TRUE, nrow = 3)\n",
    "# In the matrix() function:\n",
    "\n",
    "# The first argument is the collection of elements that R will arrange into the rows and columns of the matrix. \n",
    "#Here, we use 1:9 which is a shortcut for c(1, 2, 3, 4, 5, 6, 7, 8, 9).\n",
    "# The argument byrow indicates that the matrix is filled by the rows. If we want the matrix to be \n",
    "#filled by the columns, we just place byrow = FALSE.\n",
    "# The third argument nrow indicates that the matrix should have three rows."
   ]
  },
  {
   "cell_type": "markdown",
   "metadata": {},
   "source": [
    "# Code 2.01"
   ]
  },
  {
   "cell_type": "code",
   "execution_count": 60,
   "metadata": {},
   "outputs": [
    {
     "data": {
      "text/html": [
       "<table>\n",
       "<tbody>\n",
       "\t<tr><td>1</td><td>2</td><td>3</td></tr>\n",
       "\t<tr><td>4</td><td>5</td><td>6</td></tr>\n",
       "\t<tr><td>7</td><td>8</td><td>9</td></tr>\n",
       "</tbody>\n",
       "</table>\n"
      ],
      "text/latex": [
       "\\begin{tabular}{lll}\n",
       "\t 1 & 2 & 3\\\\\n",
       "\t 4 & 5 & 6\\\\\n",
       "\t 7 & 8 & 9\\\\\n",
       "\\end{tabular}\n"
      ],
      "text/markdown": [
       "\n",
       "| 1 | 2 | 3 | \n",
       "| 4 | 5 | 6 | \n",
       "| 7 | 8 | 9 | \n",
       "\n",
       "\n"
      ],
      "text/plain": [
       "     [,1] [,2] [,3]\n",
       "[1,] 1    2    3   \n",
       "[2,] 4    5    6   \n",
       "[3,] 7    8    9   "
      ]
     },
     "metadata": {},
     "output_type": "display_data"
    }
   ],
   "source": [
    "# Construct a matrix with 3 rows that contain the numbers 1 up to 9\n",
    "matrix(1:9,byrow = TRUE,nrow = 3)"
   ]
  },
  {
   "cell_type": "code",
   "execution_count": 61,
   "metadata": {},
   "outputs": [
    {
     "data": {
      "text/html": [
       "<table>\n",
       "<tbody>\n",
       "\t<tr><td>460.998</td><td>314.4  </td></tr>\n",
       "\t<tr><td>290.475</td><td>247.9  </td></tr>\n",
       "\t<tr><td>309.306</td><td>165.8  </td></tr>\n",
       "</tbody>\n",
       "</table>\n"
      ],
      "text/latex": [
       "\\begin{tabular}{ll}\n",
       "\t 460.998 & 314.4  \\\\\n",
       "\t 290.475 & 247.9  \\\\\n",
       "\t 309.306 & 165.8  \\\\\n",
       "\\end{tabular}\n"
      ],
      "text/markdown": [
       "\n",
       "| 460.998 | 314.4   | \n",
       "| 290.475 | 247.9   | \n",
       "| 309.306 | 165.8   | \n",
       "\n",
       "\n"
      ],
      "text/plain": [
       "     [,1]    [,2] \n",
       "[1,] 460.998 314.4\n",
       "[2,] 290.475 247.9\n",
       "[3,] 309.306 165.8"
      ]
     },
     "metadata": {},
     "output_type": "display_data"
    }
   ],
   "source": [
    "# Box office Star Wars (in millions!)\n",
    "new_hope <- c(460.998, 314.4)\n",
    "empire_strikes <- c(290.475, 247.900)\n",
    "return_jedi <- c(309.306, 165.8)\n",
    "\n",
    "# Create box_office\n",
    "box_office <- c(new_hope, empire_strikes, return_jedi)\n",
    "\n",
    "# Construct star_wars_matrix\n",
    "star_wars_matrix <- matrix(box_office,byrow = TRUE, nrow=3)\n",
    "star_wars_matrix"
   ]
  },
  {
   "cell_type": "markdown",
   "metadata": {},
   "source": [
    "# Naming a Matrix"
   ]
  },
  {
   "cell_type": "code",
   "execution_count": 62,
   "metadata": {},
   "outputs": [
    {
     "data": {
      "text/html": [
       "<table>\n",
       "<thead><tr><th></th><th scope=col>US</th><th scope=col>non-US</th></tr></thead>\n",
       "<tbody>\n",
       "\t<tr><th scope=row>A New Hope</th><td>460.998</td><td>314.4  </td></tr>\n",
       "\t<tr><th scope=row>The Empire Strikes Back</th><td>290.475</td><td>247.9  </td></tr>\n",
       "\t<tr><th scope=row>Return of the Jedi</th><td>309.306</td><td>165.8  </td></tr>\n",
       "</tbody>\n",
       "</table>\n"
      ],
      "text/latex": [
       "\\begin{tabular}{r|ll}\n",
       "  & US & non-US\\\\\n",
       "\\hline\n",
       "\tA New Hope & 460.998 & 314.4  \\\\\n",
       "\tThe Empire Strikes Back & 290.475 & 247.9  \\\\\n",
       "\tReturn of the Jedi & 309.306 & 165.8  \\\\\n",
       "\\end{tabular}\n"
      ],
      "text/markdown": [
       "\n",
       "| <!--/--> | US | non-US | \n",
       "|---|---|---|\n",
       "| A New Hope | 460.998 | 314.4   | \n",
       "| The Empire Strikes Back | 290.475 | 247.9   | \n",
       "| Return of the Jedi | 309.306 | 165.8   | \n",
       "\n",
       "\n"
      ],
      "text/plain": [
       "                        US      non-US\n",
       "A New Hope              460.998 314.4 \n",
       "The Empire Strikes Back 290.475 247.9 \n",
       "Return of the Jedi      309.306 165.8 "
      ]
     },
     "metadata": {},
     "output_type": "display_data"
    }
   ],
   "source": [
    "# Box office Star Wars (in millions!)\n",
    "new_hope <- c(460.998, 314.4)\n",
    "empire_strikes <- c(290.475, 247.900)\n",
    "return_jedi <- c(309.306, 165.8)\n",
    "\n",
    "# Construct matrix\n",
    "star_wars_matrix <- matrix(c(new_hope, empire_strikes, return_jedi), nrow = 3, byrow = TRUE)\n",
    "\n",
    "# Vectors region and titles, used for naming\n",
    "region <- c(\"US\", \"non-US\")\n",
    "titles <- c(\"A New Hope\", \"The Empire Strikes Back\", \"Return of the Jedi\")\n",
    "\n",
    "# Name the columns with region\n",
    "colnames(star_wars_matrix) <- region\n",
    "# Name the rows with titles\n",
    "\n",
    "rownames(star_wars_matrix) <- titles\n",
    "\n",
    "# Print out star_wars_matrix\n",
    "\n",
    "star_wars_matrix"
   ]
  },
  {
   "cell_type": "markdown",
   "metadata": {},
   "source": [
    "# Code 2.02"
   ]
  },
  {
   "cell_type": "code",
   "execution_count": 63,
   "metadata": {},
   "outputs": [
    {
     "name": "stdout",
     "output_type": "stream",
     "text": [
      "           Name                      Age  Dateofbirth  Gender Percentage\n",
      "16D41A05C8 \"Aravind\"                 \"19\" \"27/07/1998\" \"MALE\" \"93.54\"   \n",
      "16D41A05D8 \"Arun Sai Reddy\"          \"19\" \"19/06/1998\" \"MALE\" \"95.54\"   \n",
      "16D41A05G5 \"Sai Vardhan\"             \"21\" \"21/05/1997\" \"MALE\" \"94.54\"   \n",
      "16D41A05F0 \"Sri Manikanta Palakollu\" \"19\" \"18/05/1999\" \"MALE\" \"98.54\"   \n",
      "           Height  Weight\n",
      "16D41A05C8 \"5.53\"  \"67\"  \n",
      "16D41A05D8 \"5.647\" \"63\"  \n",
      "16D41A05G5 \"5.62\"  \"64\"  \n",
      "16D41A05F0 \"5.63\"  \"61\"  \n"
     ]
    }
   ],
   "source": [
    "vec1 <- c('Aravind',19,'27/07/1998','MALE',93.54,5.53,67)\n",
    "vec2 <- c('Arun Sai Reddy',19,'19/06/1998','MALE',95.54,5.647,63)\n",
    "vec3 <- c('Sai Vardhan',21,'21/05/1997','MALE',94.54,5.62,64)\n",
    "vec4 <- c('Sri Manikanta Palakollu',19,'18/05/1999','MALE',98.54,5.63,61)\n",
    "\n",
    "my_matrix <- matrix(c(vec1, vec2, vec3, vec4), byrow = TRUE, nrow = 4)\n",
    "rollnumbers <- c('16D41A05C8', '16D41A05D8','16D41A05G5','16D41A05F0')\n",
    "details <- c('Name', 'Age','Dateofbirth', 'Gender', 'Percentage', 'Height', 'Weight')\n",
    "\n",
    "colnames(my_matrix) <- details\n",
    "rownames(my_matrix) <- rollnumbers\n",
    "\n",
    "print(my_matrix)"
   ]
  },
  {
   "cell_type": "markdown",
   "metadata": {},
   "source": [
    "# Code 2.03"
   ]
  },
  {
   "cell_type": "code",
   "execution_count": 64,
   "metadata": {},
   "outputs": [
    {
     "data": {
      "text/html": [
       "<dl class=dl-horizontal>\n",
       "\t<dt>A New Hope</dt>\n",
       "\t\t<dd>775.398</dd>\n",
       "\t<dt>The Empire Strikes Back</dt>\n",
       "\t\t<dd>538.375</dd>\n",
       "\t<dt>Return of the Jedi</dt>\n",
       "\t\t<dd>475.106</dd>\n",
       "</dl>\n"
      ],
      "text/latex": [
       "\\begin{description*}\n",
       "\\item[A New Hope] 775.398\n",
       "\\item[The Empire Strikes Back] 538.375\n",
       "\\item[Return of the Jedi] 475.106\n",
       "\\end{description*}\n"
      ],
      "text/markdown": [
       "A New Hope\n",
       ":   775.398The Empire Strikes Back\n",
       ":   538.375Return of the Jedi\n",
       ":   475.106\n",
       "\n"
      ],
      "text/plain": [
       "             A New Hope The Empire Strikes Back      Return of the Jedi \n",
       "                775.398                 538.375                 475.106 "
      ]
     },
     "metadata": {},
     "output_type": "display_data"
    }
   ],
   "source": [
    "# Construct star_wars_matrix\n",
    "box_office <- c(460.998, 314.4, 290.475, 247.900, 309.306, 165.8)\n",
    "star_wars_matrix <- matrix(box_office, nrow = 3, byrow = TRUE,\n",
    "                           dimnames = list(c(\"A New Hope\", \"The Empire Strikes Back\", \"Return of the Jedi\"), \n",
    "                                           c(\"US\", \"non-US\")))\n",
    "\n",
    "# Calculate worldwide box office figures\n",
    "worldwide_vector <- rowSums(star_wars_matrix)\n",
    "worldwide_vector"
   ]
  },
  {
   "cell_type": "code",
   "execution_count": 65,
   "metadata": {},
   "outputs": [
    {
     "data": {
      "text/html": [
       "<table>\n",
       "<thead><tr><th></th><th scope=col>US</th><th scope=col>non-US</th><th scope=col>worldwide_vector</th></tr></thead>\n",
       "<tbody>\n",
       "\t<tr><th scope=row>A New Hope</th><td>460.998</td><td>314.4  </td><td>775.398</td></tr>\n",
       "\t<tr><th scope=row>The Empire Strikes Back</th><td>290.475</td><td>247.9  </td><td>538.375</td></tr>\n",
       "\t<tr><th scope=row>Return of the Jedi</th><td>309.306</td><td>165.8  </td><td>475.106</td></tr>\n",
       "</tbody>\n",
       "</table>\n"
      ],
      "text/latex": [
       "\\begin{tabular}{r|lll}\n",
       "  & US & non-US & worldwide\\_vector\\\\\n",
       "\\hline\n",
       "\tA New Hope & 460.998 & 314.4   & 775.398\\\\\n",
       "\tThe Empire Strikes Back & 290.475 & 247.9   & 538.375\\\\\n",
       "\tReturn of the Jedi & 309.306 & 165.8   & 475.106\\\\\n",
       "\\end{tabular}\n"
      ],
      "text/markdown": [
       "\n",
       "| <!--/--> | US | non-US | worldwide_vector | \n",
       "|---|---|---|\n",
       "| A New Hope | 460.998 | 314.4   | 775.398 | \n",
       "| The Empire Strikes Back | 290.475 | 247.9   | 538.375 | \n",
       "| Return of the Jedi | 309.306 | 165.8   | 475.106 | \n",
       "\n",
       "\n"
      ],
      "text/plain": [
       "                        US      non-US worldwide_vector\n",
       "A New Hope              460.998 314.4  775.398         \n",
       "The Empire Strikes Back 290.475 247.9  538.375         \n",
       "Return of the Jedi      309.306 165.8  475.106         "
      ]
     },
     "metadata": {},
     "output_type": "display_data"
    }
   ],
   "source": [
    "# Bind the new variable worldwide_vector as a column to star_wars_matrix\n",
    "all_wars_matrix <- cbind(star_wars_matrix,worldwide_vector)\n",
    "\n",
    "all_wars_matrix"
   ]
  },
  {
   "cell_type": "code",
   "execution_count": 66,
   "metadata": {},
   "outputs": [
    {
     "data": {
      "text/html": [
       "<table>\n",
       "<thead><tr><th></th><th scope=col>Name</th><th scope=col>Age</th><th scope=col>Dateofbirth</th><th scope=col>Gender</th><th scope=col>Percentage</th><th scope=col>Height</th><th scope=col>Weight</th><th scope=col>girlfriend</th><th scope=col>mobile</th></tr></thead>\n",
       "<tbody>\n",
       "\t<tr><th scope=row>16D41A05C8</th><td>Aravind                </td><td>19                     </td><td>27/07/1998             </td><td>MALE                   </td><td>93.54                  </td><td>5.53                   </td><td>67                     </td><td>Akshara                </td><td>9848726190             </td></tr>\n",
       "\t<tr><th scope=row>16D41A05D8</th><td>Arun Sai Reddy         </td><td>19                     </td><td>19/06/1998             </td><td>MALE                   </td><td>95.54                  </td><td>5.647                  </td><td>63                     </td><td>Varsha                 </td><td>8464342134             </td></tr>\n",
       "\t<tr><th scope=row>16D41A05G5</th><td>Sai Vardhan            </td><td>21                     </td><td>21/05/1997             </td><td>MALE                   </td><td>94.54                  </td><td>5.62                   </td><td>64                     </td><td>Kavya                  </td><td>6300012376             </td></tr>\n",
       "\t<tr><th scope=row>16D41A05F0</th><td>Sri Manikanta Palakollu</td><td>19                     </td><td>18/05/1999             </td><td>MALE                   </td><td>98.54                  </td><td>5.63                   </td><td>61                     </td><td>Harika                 </td><td>9912575995             </td></tr>\n",
       "</tbody>\n",
       "</table>\n"
      ],
      "text/latex": [
       "\\begin{tabular}{r|lllllllll}\n",
       "  & Name & Age & Dateofbirth & Gender & Percentage & Height & Weight & girlfriend & mobile\\\\\n",
       "\\hline\n",
       "\t16D41A05C8 & Aravind                 & 19                      & 27/07/1998              & MALE                    & 93.54                   & 5.53                    & 67                      & Akshara                 & 9848726190             \\\\\n",
       "\t16D41A05D8 & Arun Sai Reddy          & 19                      & 19/06/1998              & MALE                    & 95.54                   & 5.647                   & 63                      & Varsha                  & 8464342134             \\\\\n",
       "\t16D41A05G5 & Sai Vardhan             & 21                      & 21/05/1997              & MALE                    & 94.54                   & 5.62                    & 64                      & Kavya                   & 6300012376             \\\\\n",
       "\t16D41A05F0 & Sri Manikanta Palakollu & 19                      & 18/05/1999              & MALE                    & 98.54                   & 5.63                    & 61                      & Harika                  & 9912575995             \\\\\n",
       "\\end{tabular}\n"
      ],
      "text/markdown": [
       "\n",
       "| <!--/--> | Name | Age | Dateofbirth | Gender | Percentage | Height | Weight | girlfriend | mobile | \n",
       "|---|---|---|---|\n",
       "| 16D41A05C8 | Aravind                 | 19                      | 27/07/1998              | MALE                    | 93.54                   | 5.53                    | 67                      | Akshara                 | 9848726190              | \n",
       "| 16D41A05D8 | Arun Sai Reddy          | 19                      | 19/06/1998              | MALE                    | 95.54                   | 5.647                   | 63                      | Varsha                  | 8464342134              | \n",
       "| 16D41A05G5 | Sai Vardhan             | 21                      | 21/05/1997              | MALE                    | 94.54                   | 5.62                    | 64                      | Kavya                   | 6300012376              | \n",
       "| 16D41A05F0 | Sri Manikanta Palakollu | 19                      | 18/05/1999              | MALE                    | 98.54                   | 5.63                    | 61                      | Harika                  | 9912575995              | \n",
       "\n",
       "\n"
      ],
      "text/plain": [
       "           Name                    Age Dateofbirth Gender Percentage Height\n",
       "16D41A05C8 Aravind                 19  27/07/1998  MALE   93.54      5.53  \n",
       "16D41A05D8 Arun Sai Reddy          19  19/06/1998  MALE   95.54      5.647 \n",
       "16D41A05G5 Sai Vardhan             21  21/05/1997  MALE   94.54      5.62  \n",
       "16D41A05F0 Sri Manikanta Palakollu 19  18/05/1999  MALE   98.54      5.63  \n",
       "           Weight girlfriend mobile    \n",
       "16D41A05C8 67     Akshara    9848726190\n",
       "16D41A05D8 63     Varsha     8464342134\n",
       "16D41A05G5 64     Kavya      6300012376\n",
       "16D41A05F0 61     Harika     9912575995"
      ]
     },
     "metadata": {},
     "output_type": "display_data"
    },
    {
     "data": {
      "text/html": [
       "'character'"
      ],
      "text/latex": [
       "'character'"
      ],
      "text/markdown": [
       "'character'"
      ],
      "text/plain": [
       "[1] \"character\""
      ]
     },
     "metadata": {},
     "output_type": "display_data"
    },
    {
     "data": {
      "text/html": [
       "'matrix'"
      ],
      "text/latex": [
       "'matrix'"
      ],
      "text/markdown": [
       "'matrix'"
      ],
      "text/plain": [
       "[1] \"matrix\""
      ]
     },
     "metadata": {},
     "output_type": "display_data"
    }
   ],
   "source": [
    "girlfriend <- c('Akshara','Varsha','Kavya','Harika')\n",
    "mobile <- c(9848726190,8464342134,6300012376,9912575995)\n",
    "cbind(my_matrix,girlfriend,mobile)\n",
    "\n",
    "typeof(my_matrix)\n",
    "class(my_matrix)"
   ]
  },
  {
   "cell_type": "markdown",
   "metadata": {},
   "source": [
    "# Code 2.04"
   ]
  },
  {
   "cell_type": "code",
   "execution_count": 67,
   "metadata": {},
   "outputs": [
    {
     "name": "stderr",
     "output_type": "stream",
     "text": [
      "Warning message in rbind(my_matrix, General):\n",
      "“number of columns of result is not a multiple of vector length (arg 2)”"
     ]
    },
    {
     "data": {
      "text/html": [
       "<table>\n",
       "<thead><tr><th></th><th scope=col>Name</th><th scope=col>Age</th><th scope=col>Dateofbirth</th><th scope=col>Gender</th><th scope=col>Percentage</th><th scope=col>Height</th><th scope=col>Weight</th></tr></thead>\n",
       "<tbody>\n",
       "\t<tr><th scope=row>16D41A05C8</th><td>Aravind                </td><td>19                     </td><td>27/07/1998             </td><td>MALE                   </td><td>93.54                  </td><td>5.53                   </td><td>67                     </td></tr>\n",
       "\t<tr><th scope=row>16D41A05D8</th><td>Arun Sai Reddy         </td><td>19                     </td><td>19/06/1998             </td><td>MALE                   </td><td>95.54                  </td><td>5.647                  </td><td>63                     </td></tr>\n",
       "\t<tr><th scope=row>16D41A05G5</th><td>Sai Vardhan            </td><td>21                     </td><td>21/05/1997             </td><td>MALE                   </td><td>94.54                  </td><td>5.62                   </td><td>64                     </td></tr>\n",
       "\t<tr><th scope=row>16D41A05F0</th><td>Sri Manikanta Palakollu</td><td>19                     </td><td>18/05/1999             </td><td>MALE                   </td><td>98.54                  </td><td>5.63                   </td><td>61                     </td></tr>\n",
       "\t<tr><th scope=row>General</th><td>Naveen                 </td><td>21                     </td><td>02/10/1997             </td><td>MALE                   </td><td>87.95                  </td><td>5.898                  </td><td>73                     </td></tr>\n",
       "</tbody>\n",
       "</table>\n"
      ],
      "text/latex": [
       "\\begin{tabular}{r|lllllll}\n",
       "  & Name & Age & Dateofbirth & Gender & Percentage & Height & Weight\\\\\n",
       "\\hline\n",
       "\t16D41A05C8 & Aravind                 & 19                      & 27/07/1998              & MALE                    & 93.54                   & 5.53                    & 67                     \\\\\n",
       "\t16D41A05D8 & Arun Sai Reddy          & 19                      & 19/06/1998              & MALE                    & 95.54                   & 5.647                   & 63                     \\\\\n",
       "\t16D41A05G5 & Sai Vardhan             & 21                      & 21/05/1997              & MALE                    & 94.54                   & 5.62                    & 64                     \\\\\n",
       "\t16D41A05F0 & Sri Manikanta Palakollu & 19                      & 18/05/1999              & MALE                    & 98.54                   & 5.63                    & 61                     \\\\\n",
       "\tGeneral & Naveen                  & 21                      & 02/10/1997              & MALE                    & 87.95                   & 5.898                   & 73                     \\\\\n",
       "\\end{tabular}\n"
      ],
      "text/markdown": [
       "\n",
       "| <!--/--> | Name | Age | Dateofbirth | Gender | Percentage | Height | Weight | \n",
       "|---|---|---|---|---|\n",
       "| 16D41A05C8 | Aravind                 | 19                      | 27/07/1998              | MALE                    | 93.54                   | 5.53                    | 67                      | \n",
       "| 16D41A05D8 | Arun Sai Reddy          | 19                      | 19/06/1998              | MALE                    | 95.54                   | 5.647                   | 63                      | \n",
       "| 16D41A05G5 | Sai Vardhan             | 21                      | 21/05/1997              | MALE                    | 94.54                   | 5.62                    | 64                      | \n",
       "| 16D41A05F0 | Sri Manikanta Palakollu | 19                      | 18/05/1999              | MALE                    | 98.54                   | 5.63                    | 61                      | \n",
       "| General | Naveen                  | 21                      | 02/10/1997              | MALE                    | 87.95                   | 5.898                   | 73                      | \n",
       "\n",
       "\n"
      ],
      "text/plain": [
       "           Name                    Age Dateofbirth Gender Percentage Height\n",
       "16D41A05C8 Aravind                 19  27/07/1998  MALE   93.54      5.53  \n",
       "16D41A05D8 Arun Sai Reddy          19  19/06/1998  MALE   95.54      5.647 \n",
       "16D41A05G5 Sai Vardhan             21  21/05/1997  MALE   94.54      5.62  \n",
       "16D41A05F0 Sri Manikanta Palakollu 19  18/05/1999  MALE   98.54      5.63  \n",
       "General    Naveen                  21  02/10/1997  MALE   87.95      5.898 \n",
       "           Weight\n",
       "16D41A05C8 67    \n",
       "16D41A05D8 63    \n",
       "16D41A05G5 64    \n",
       "16D41A05F0 61    \n",
       "General    73    "
      ]
     },
     "metadata": {},
     "output_type": "display_data"
    }
   ],
   "source": [
    "General <- c('Naveen',21,'02/10/1997','MALE',87.95,5.898,73,'Malaika',7984563984)\n",
    "my_matrix <- rbind(my_matrix,General)\n",
    "my_matrix"
   ]
  },
  {
   "cell_type": "markdown",
   "metadata": {},
   "source": [
    "# Code 2.05"
   ]
  },
  {
   "cell_type": "code",
   "execution_count": 48,
   "metadata": {},
   "outputs": [
    {
     "data": {
      "text/html": [
       "<dl class=dl-horizontal>\n",
       "\t<dt>US</dt>\n",
       "\t\t<dd>1060.779</dd>\n",
       "\t<dt>non-US</dt>\n",
       "\t\t<dd>728.1</dd>\n",
       "\t<dt>worldwide_vector</dt>\n",
       "\t\t<dd>1788.879</dd>\n",
       "</dl>\n"
      ],
      "text/latex": [
       "\\begin{description*}\n",
       "\\item[US] 1060.779\n",
       "\\item[non-US] 728.1\n",
       "\\item[worldwide\\textbackslash{}\\_vector] 1788.879\n",
       "\\end{description*}\n"
      ],
      "text/markdown": [
       "US\n",
       ":   1060.779non-US\n",
       ":   728.1worldwide_vector\n",
       ":   1788.879\n",
       "\n"
      ],
      "text/plain": [
       "              US           non-US worldwide_vector \n",
       "        1060.779          728.100         1788.879 "
      ]
     },
     "metadata": {},
     "output_type": "display_data"
    }
   ],
   "source": [
    "# Total revenue for US and non-US\n",
    "total_revenue_vector <- colSums(all_wars_matrix)\n",
    "  \n",
    "# Print out total_revenue_vector\n",
    "\n",
    "total_revenue_vector"
   ]
  },
  {
   "cell_type": "markdown",
   "metadata": {},
   "source": [
    "# Matrix Arthimetic"
   ]
  },
  {
   "cell_type": "code",
   "execution_count": 54,
   "metadata": {},
   "outputs": [
    {
     "data": {
      "text/html": [
       "<table>\n",
       "<tbody>\n",
       "\t<tr><td>1</td><td>2</td><td>3</td></tr>\n",
       "\t<tr><td>4</td><td>5</td><td>6</td></tr>\n",
       "\t<tr><td>7</td><td>8</td><td>9</td></tr>\n",
       "</tbody>\n",
       "</table>\n"
      ],
      "text/latex": [
       "\\begin{tabular}{lll}\n",
       "\t 1 & 2 & 3\\\\\n",
       "\t 4 & 5 & 6\\\\\n",
       "\t 7 & 8 & 9\\\\\n",
       "\\end{tabular}\n"
      ],
      "text/markdown": [
       "\n",
       "| 1 | 2 | 3 | \n",
       "| 4 | 5 | 6 | \n",
       "| 7 | 8 | 9 | \n",
       "\n",
       "\n"
      ],
      "text/plain": [
       "     [,1] [,2] [,3]\n",
       "[1,] 1    2    3   \n",
       "[2,] 4    5    6   \n",
       "[3,] 7    8    9   "
      ]
     },
     "metadata": {},
     "output_type": "display_data"
    },
    {
     "data": {
      "text/html": [
       "<table>\n",
       "<tbody>\n",
       "\t<tr><td>10</td><td>11</td><td>12</td></tr>\n",
       "\t<tr><td>13</td><td>14</td><td>15</td></tr>\n",
       "\t<tr><td>16</td><td>17</td><td>18</td></tr>\n",
       "</tbody>\n",
       "</table>\n"
      ],
      "text/latex": [
       "\\begin{tabular}{lll}\n",
       "\t 10 & 11 & 12\\\\\n",
       "\t 13 & 14 & 15\\\\\n",
       "\t 16 & 17 & 18\\\\\n",
       "\\end{tabular}\n"
      ],
      "text/markdown": [
       "\n",
       "| 10 | 11 | 12 | \n",
       "| 13 | 14 | 15 | \n",
       "| 16 | 17 | 18 | \n",
       "\n",
       "\n"
      ],
      "text/plain": [
       "     [,1] [,2] [,3]\n",
       "[1,] 10   11   12  \n",
       "[2,] 13   14   15  \n",
       "[3,] 16   17   18  "
      ]
     },
     "metadata": {},
     "output_type": "display_data"
    }
   ],
   "source": [
    "randomvec1 <- seq(1,9)\n",
    "randomvec2 <- seq(10,18)\n",
    "\n",
    "my_matrix1 <- matrix(randomvec1,byrow = TRUE,nrow = 3)\n",
    "my_matrix2 <- matrix(randomvec2,byrow = TRUE,nrow = 3)\n",
    "\n",
    "my_matrix1\n",
    "my_matrix2"
   ]
  },
  {
   "cell_type": "code",
   "execution_count": 55,
   "metadata": {},
   "outputs": [
    {
     "name": "stdout",
     "output_type": "stream",
     "text": [
      "     [,1] [,2] [,3]\n",
      "[1,]   11   13   15\n",
      "[2,]   17   19   21\n",
      "[3,]   23   25   27\n",
      "     [,1] [,2] [,3]\n",
      "[1,]    9    9    9\n",
      "[2,]    9    9    9\n",
      "[3,]    9    9    9\n",
      "     [,1] [,2] [,3]\n",
      "[1,]   10   22   36\n",
      "[2,]   52   70   90\n",
      "[3,]  112  136  162\n",
      "          [,1]  [,2] [,3]\n",
      "[1,] 10.000000 5.500  4.0\n",
      "[2,]  3.250000 2.800  2.5\n",
      "[3,]  2.285714 2.125  2.0\n"
     ]
    }
   ],
   "source": [
    "add <- my_matrix1 + my_matrix2\n",
    "\n",
    "sub <- my_matrix2 - my_matrix1\n",
    "\n",
    "mul <- my_matrix1 * my_matrix2\n",
    "\n",
    "div <- my_matrix2 / my_matrix1\n",
    "\n",
    "print(add)\n",
    "print(sub)\n",
    "print(mul)\n",
    "print(div)"
   ]
  },
  {
   "cell_type": "code",
   "execution_count": null,
   "metadata": {},
   "outputs": [],
   "source": []
  }
 ],
 "metadata": {
  "kernelspec": {
   "display_name": "R",
   "language": "R",
   "name": "ir"
  },
  "language_info": {
   "codemirror_mode": "r",
   "file_extension": ".r",
   "mimetype": "text/x-r-source",
   "name": "R",
   "pygments_lexer": "r",
   "version": "3.5.0"
  }
 },
 "nbformat": 4,
 "nbformat_minor": 2
}
