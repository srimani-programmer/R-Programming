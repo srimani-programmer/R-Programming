{
 "cells": [
  {
   "cell_type": "markdown",
   "metadata": {},
   "source": [
    "# Introduction to functions"
   ]
  },
  {
   "cell_type": "code",
   "execution_count": 9,
   "metadata": {},
   "outputs": [
    {
     "name": "stdout",
     "output_type": "stream",
     "text": [
      "[1] \"Hello,world\"\n"
     ]
    }
   ],
   "source": [
    "say_hello <- function(){\n",
    "    print(\"Hello,world\")\n",
    "}\n",
    "\n",
    "say_hello()"
   ]
  },
  {
   "cell_type": "code",
   "execution_count": 8,
   "metadata": {},
   "outputs": [
    {
     "name": "stdout",
     "output_type": "stream",
     "text": [
      "[1] 9\n"
     ]
    }
   ],
   "source": [
    "add_values <- function(a,b){\n",
    "    return (a+b)\n",
    "}\n",
    "\n",
    "res = add_values(5,4)\n",
    "print(res)"
   ]
  },
  {
   "cell_type": "code",
   "execution_count": 14,
   "metadata": {},
   "outputs": [
    {
     "name": "stdout",
     "output_type": "stream",
     "text": [
      "[1] \"Hello palakollu sri manikanta\"\n",
      "[1] \"Hello Sri Manikanta palakollu\"\n",
      "[1] \"Hello palakollu Sri Manikanta\"\n"
     ]
    }
   ],
   "source": [
    "print_name <- function(firstname,middlename,lastname){\n",
    "    print(sprintf(\"Hello %s %s %s\", firstname,middlename,lastname))\n",
    "}\n",
    "\n",
    "print_name(\"palakollu\",\"sri\",\"manikanta\")\n",
    "print_name(firstname = \"Sri\",middlename = \"Manikanta\",lastname = \"palakollu\")\n",
    "print_name(firstname = \"palakollu\",\"Sri\",lastname = \"Manikanta\")"
   ]
  },
  {
   "cell_type": "markdown",
   "metadata": {},
   "source": [
    "# Default Arguments"
   ]
  },
  {
   "cell_type": "code",
   "execution_count": 17,
   "metadata": {},
   "outputs": [
    {
     "name": "stdout",
     "output_type": "stream",
     "text": [
      "[1] \"Sri Manikanta Palakollu Welcome\"\n"
     ]
    }
   ],
   "source": [
    "# Always the Default arguments are to be placed at last in any function.\n",
    "say_welcome <- function(name,wishes = \"Welcome\"){\n",
    "    print(sprintf(\"%s %s\",name,wishes))\n",
    "}\n",
    "say_welcome(\"Sri Manikanta Palakollu\")"
   ]
  },
  {
   "cell_type": "markdown",
   "metadata": {},
   "source": [
    "# Var-Arg Functions"
   ]
  },
  {
   "cell_type": "code",
   "execution_count": 26,
   "metadata": {},
   "outputs": [
    {
     "name": "stdout",
     "output_type": "stream",
     "text": [
      "[1] 50\n"
     ]
    }
   ],
   "source": [
    "# Working with Variable Argument Methods...\n",
    "var_args <- function(a,...){\n",
    "    for(i in 1:5){\n",
    "        sum = sum + a\n",
    "    }\n",
    "    \n",
    "    return (sum);\n",
    "}\n",
    "\n",
    "# This var-arg methods are different from other programming languages var-arg methods\n",
    "\n",
    "res1 = var_args(10,20,30,40)\n",
    "print(res1)"
   ]
  },
  {
   "cell_type": "markdown",
   "metadata": {},
   "source": [
    "# Do-Call Method"
   ]
  },
  {
   "cell_type": "code",
   "execution_count": 27,
   "metadata": {},
   "outputs": [
    {
     "data": {
      "text/html": [
       "50"
      ],
      "text/latex": [
       "50"
      ],
      "text/markdown": [
       "50"
      ],
      "text/plain": [
       "[1] 50"
      ]
     },
     "metadata": {},
     "output_type": "display_data"
    }
   ],
   "source": [
    "do.call(var_args, args = list(10,20,30,40,50))"
   ]
  },
  {
   "cell_type": "code",
   "execution_count": null,
   "metadata": {},
   "outputs": [],
   "source": []
  }
 ],
 "metadata": {
  "kernelspec": {
   "display_name": "R",
   "language": "R",
   "name": "ir"
  },
  "language_info": {
   "codemirror_mode": "r",
   "file_extension": ".r",
   "mimetype": "text/x-r-source",
   "name": "R",
   "pygments_lexer": "r",
   "version": "3.5.0"
  }
 },
 "nbformat": 4,
 "nbformat_minor": 2
}
